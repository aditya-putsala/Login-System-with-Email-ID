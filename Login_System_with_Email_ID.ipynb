{
  "nbformat": 4,
  "nbformat_minor": 0,
  "metadata": {
    "colab": {
      "name": " Login-System-with-Email-ID.ipynb",
      "provenance": []
    },
    "kernelspec": {
      "name": "python3",
      "display_name": "Python 3"
    },
    "language_info": {
      "name": "python"
    }
  },
  "cells": [
    {
      "cell_type": "code",
      "source": [
        "def register():\n",
        "    db = open('database.txt', 'r')\n",
        "    email = input(\"Enter email: \")\n",
        "    valid_email(email)\n",
        "    password = input(\"Enter password: \")\n",
        "    valid_password(password)\n",
        "    password1 = input(\"Confirm password: \")\n",
        "\n",
        "    d = []\n",
        "    f = []\n",
        "    for i in db:\n",
        "        a,b = i.split()\n",
        "        d.append(a)\n",
        "        f.append(b)\n",
        "    dat = dict(zip(d,f))\n",
        "    print(dat)\n",
        "\n",
        "\n",
        "    if password != password1:\n",
        "        print(\"passwords don't match\")\n",
        "        register()\n",
        "    elif email in d:\n",
        "        print(\"email already exists\")\n",
        "    else:\n",
        "        db = open('database.txt', 'a')\n",
        "        db.write(email + \" \" + password + \"\\n\")\n",
        "        print(\"registration successful\")\n",
        "    login()\n"
      ],
      "metadata": {
        "id": "2Bsmz0ApNwUI"
      },
      "execution_count": null,
      "outputs": []
    },
    {
      "cell_type": "code",
      "source": [
        "def login():\n",
        "    db = open(\"database.txt\", \"r\")\n",
        "\n",
        "    email = input(\"Email: \")\n",
        "    password = input(\"Password: \")\n",
        "    if not len(email or password) < 1:\n",
        "        if True:\n",
        "            d = []\n",
        "            f = []\n",
        "            for i in db:\n",
        "                a,b = i.split()\n",
        "                d.append(a)\n",
        "                f.append(b)\n",
        "            zipped = zip(d,f)\n",
        "            dat = dict(zipped)\n",
        "            try:\n",
        "                if dat[email]:\n",
        "                    try:\n",
        "                        if password == dat[email]:\n",
        "\n",
        "                            print(\"Login successful\")\n",
        "                            print(\"Welcome to my first page\")\n",
        "                        else:\n",
        "                            print(\"Incorrect email or password\")\n",
        "                            l = input(\"Enter 0 for forgot password: \")\n",
        "                            if l == \"0\":\n",
        "                                print(dat[email])\n",
        "                    except:\n",
        "                        print(\"Incorrect email or password\")\n",
        "                else:\n",
        "                    print(\"Incorrect email or password\")\n",
        "            except:\n",
        "                print(\"Incorrect email or password\")\n",
        "        else:\n",
        "            print(\"Incorrect email or password\")\n"
      ],
      "metadata": {
        "id": "zMriv6tAN7ml"
      },
      "execution_count": null,
      "outputs": []
    },
    {
      "cell_type": "code",
      "source": [
        "def valid_email(n):\n",
        "     a = (n.count(\"@\") == 1 and n.count(\"&\") <= 1)\n",
        "     count = 0\n",
        "     for i in range(len(n)):\n",
        "         if n[i] == \"@\":\n",
        "             j = i + 1\n",
        "             while True:\n",
        "                 if n[j] == \".\":\n",
        "                     break\n",
        "                 else:\n",
        "                     count = count + 1\n",
        "                     j = j + 1\n",
        "     b = (count >= 4)\n",
        "     if (a and b):\n",
        "         return n\n",
        "     else:\n",
        "         print(\"Not a Valid Email id\")\n",
        "         register()\n"
      ],
      "metadata": {
        "id": "WjGTIDBFN8nn"
      },
      "execution_count": null,
      "outputs": []
    },
    {
      "cell_type": "code",
      "source": [
        "def valid_password(p):\n",
        "\n",
        "    flag = True\n",
        "    if ((len(p)<5) or (len(p)>16)):\n",
        "        flag = False\n",
        "    if p.isalnum() == True:\n",
        "        flag = False\n",
        "    if p.islower() == True:\n",
        "        flag = False\n",
        "    if p.isupper() == True:\n",
        "        flag = False\n",
        "    if flag:\n",
        "        return p\n",
        "    else:\n",
        "        print(\"reenter\")\n",
        "        register()\n"
      ],
      "metadata": {
        "id": "-53YqOBRODXg"
      },
      "execution_count": null,
      "outputs": []
    },
    {
      "cell_type": "code",
      "source": [
        "\n",
        "def home():\n",
        "    print(\"                       \")\n",
        "    print(\"          HOME         \")\n",
        "    print(\"          ----         \")\n",
        "    print(\"                       \")\n",
        "    q = input(\"Registration --> 1\\n\"\n",
        "              \"Login        --> 2\\n\")\n",
        "    if q == \"1\":\n",
        "        register()\n",
        "    elif q == \"2\":\n",
        "        login()\n",
        "    else:\n",
        "        print(\"type either 1 or 2\")\n",
        "    home()\n",
        "\n",
        "home()\n"
      ],
      "metadata": {
        "id": "XYAKKP1fONiu"
      },
      "execution_count": null,
      "outputs": []
    }
  ]
}